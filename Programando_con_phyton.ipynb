{
  "nbformat": 4,
  "nbformat_minor": 0,
  "metadata": {
    "colab": {
      "provenance": [],
      "authorship_tag": "ABX9TyPwY3ysYSH5meNQwj7aQcZS",
      "include_colab_link": true
    },
    "kernelspec": {
      "name": "python3",
      "display_name": "Python 3"
    },
    "language_info": {
      "name": "python"
    }
  },
  "cells": [
    {
      "cell_type": "markdown",
      "metadata": {
        "id": "view-in-github",
        "colab_type": "text"
      },
      "source": [
        "<a href=\"https://colab.research.google.com/github/jhonpinzon18/Tarea-5/blob/main/Programando_con_phyton.ipynb\" target=\"_parent\"><img src=\"https://colab.research.google.com/assets/colab-badge.svg\" alt=\"Open In Colab\"/></a>"
      ]
    },
    {
      "cell_type": "markdown",
      "source": [
        "Saludar desde phyton"
      ],
      "metadata": {
        "id": "5ORKnTojkES9"
      }
    },
    {
      "cell_type": "markdown",
      "source": [],
      "metadata": {
        "id": "eOw7HqvvKhKm"
      }
    },
    {
      "cell_type": "code",
      "source": [
        "print(\"Hola te saludo desde Phyton\")"
      ],
      "metadata": {
        "colab": {
          "base_uri": "https://localhost:8080/"
        },
        "id": "x0-Uu3L1lCnR",
        "outputId": "216d3cd8-d114-4f15-a335-f7c8c862e91d"
      },
      "execution_count": null,
      "outputs": [
        {
          "output_type": "stream",
          "name": "stdout",
          "text": [
            "Hola te saludo desde Phyton\n"
          ]
        }
      ]
    },
    {
      "cell_type": "markdown",
      "source": [
        "Realizar un algoritmo que permita leer 2 numeros y calcule la suma, la resta y la multiplicación."
      ],
      "metadata": {
        "id": "MD7xJC5PlLWx"
      }
    },
    {
      "cell_type": "code",
      "source": [
        "from __future__ import division\n",
        "print(\"*********Bienvenidos a mi calculadora********\")\n",
        "print(\"1. Sumar\")\n",
        "print(\"2. Restar\")\n",
        "print(\"3. Multiplicar\")\n",
        "print(\"4. Dividir\")\n",
        "op=int(input(\"Elige la opción \"))\n",
        "num1=int(input(\"Ingrese el primer numero: \"))\n",
        "num2=int(input(\"Ingrese el segundo numero: \"))\n",
        "if(op==1):\n",
        "  suma=num1+num2\n",
        "  print(\"la suma de los numeros es:\",suma)\n",
        "elif(op==2):\n",
        "  resta=num1-num2\n",
        "  print(\"la resta de los numeros es:\",resta)\n",
        "elif(op==3):\n",
        "   multiplicacion=num1*num2\n",
        "   print(\"la multiplicacion de los numeros es:\",multiplicacion)\n",
        "elif(op==4):\n",
        "  if(num2!=0):\n",
        "    division=num1/num2\n",
        "    print(\"La division de los numeros es:\", division)\n",
        "  else:\n",
        "    print(\"No se puede dividir entre cero\")\n",
        "else:\n",
        "  print(\"Revisa el menu opcion invalida\")"
      ],
      "metadata": {
        "colab": {
          "base_uri": "https://localhost:8080/"
        },
        "id": "uElk-fXtlkA-",
        "outputId": "09c315b0-37de-40d4-eda9-1b64712171a8"
      },
      "execution_count": 54,
      "outputs": [
        {
          "output_type": "stream",
          "name": "stdout",
          "text": [
            "*********Bienvenidos a mi calculadora********\n",
            "1. Sumar\n",
            "2. Restar\n",
            "3. Multiplicar\n",
            "4. Dividir\n",
            "Elige la opción 2\n",
            "Ingrese el primer numero: 5\n",
            "Ingrese el segundo numero: 8\n",
            "la resta de los numeros es: -3\n"
          ]
        }
      ]
    },
    {
      "cell_type": "markdown",
      "source": [
        "realizar un algoritmo que permita calcular el perimetro de un triangulo"
      ],
      "metadata": {
        "id": "8X6F4_KhpYCy"
      }
    },
    {
      "cell_type": "code",
      "source": [
        "lado=float(input(\"ingrese el lado del triangulo: \"))\n",
        "perimetro=lado+lado+lado\n",
        "print(\"este es el perimetro: \", perimetro)"
      ],
      "metadata": {
        "colab": {
          "base_uri": "https://localhost:8080/"
        },
        "id": "_UT_lLBVpfGV",
        "outputId": "ce2860a6-8bba-43e3-ab56-56047975d743"
      },
      "execution_count": null,
      "outputs": [
        {
          "output_type": "stream",
          "name": "stdout",
          "text": [
            "ingrese el lado del triangulo: 5\n",
            "este es el perimetro:  15.0\n"
          ]
        }
      ]
    },
    {
      "cell_type": "markdown",
      "source": [
        "realizar un algoritmo que permita calcular el perimetro de un triangulo"
      ],
      "metadata": {
        "id": "Iw2vR4gTqRwB"
      }
    },
    {
      "cell_type": "code",
      "source": [
        "base= float(input(\"ingrese la base: \"))\n",
        "altura= float(input(\"ingrese la altura: \"))\n",
        "area=(base*altura)/2\n",
        "print(\"el area es:\", area)"
      ],
      "metadata": {
        "colab": {
          "base_uri": "https://localhost:8080/"
        },
        "id": "yBm0ssgAqWV7",
        "outputId": "41d02ec5-a161-4c44-a649-d5f6554f62c7"
      },
      "execution_count": null,
      "outputs": [
        {
          "output_type": "stream",
          "name": "stdout",
          "text": [
            "ingrese la base: 2\n",
            "ingrese la altura: 3\n",
            "el area es: 3.0\n"
          ]
        }
      ]
    },
    {
      "cell_type": "markdown",
      "source": [
        "Hallar el perimetro y el area del cuadrado"
      ],
      "metadata": {
        "id": "MTMUStWAsdhd"
      }
    },
    {
      "cell_type": "code",
      "source": [
        "lado= float(input(\"Ingrese el lado del cuadrado: \"))\n",
        "perimetro=4*lado\n",
        "print(\"el perimetro del cuadrado es: \",perimetro)"
      ],
      "metadata": {
        "colab": {
          "base_uri": "https://localhost:8080/"
        },
        "id": "CLVmR_euskkX",
        "outputId": "e4dd2707-f8a3-46dd-e435-d687b04eed77"
      },
      "execution_count": null,
      "outputs": [
        {
          "output_type": "stream",
          "name": "stdout",
          "text": [
            "Ingrese el lado del cuadrado: 5\n",
            "el perimetro del cuadrado es:  20.0\n"
          ]
        }
      ]
    },
    {
      "cell_type": "code",
      "source": [
        "import math\n",
        "lado= float(input(\"Ingrese el lado del cuadrado \"))\n",
        "area=lado*lado\n",
        "area=lado**2\n",
        "area=math.pow(lado,2)\n",
        "print(\" El area es: \", area)"
      ],
      "metadata": {
        "colab": {
          "base_uri": "https://localhost:8080/"
        },
        "id": "AafmXtT3tzBR",
        "outputId": "8838ef55-f559-456e-fdad-5e645401b5ad"
      },
      "execution_count": null,
      "outputs": [
        {
          "output_type": "stream",
          "name": "stdout",
          "text": [
            "Ingrese el lado del cuadrado 4\n",
            " El area es:  16.0\n"
          ]
        }
      ]
    },
    {
      "cell_type": "markdown",
      "source": [
        "realizar un algoritmo que diga si una persona es mayor o menor de edad"
      ],
      "metadata": {
        "id": "c6xcYezPKkMY"
      }
    },
    {
      "cell_type": "code",
      "source": [
        "edad= int(input(\"¿Que edad tienes..? \"))\n",
        "if edad>=18 and edad <=125:\n",
        "  print(\"Usted es mayor de edad con\",edad,\"Años\")\n",
        "elif edad>=0 and edad<12:\n",
        "   print(\"Eresun menor de edad con\",edad,\"Años\")\n",
        "elif edad>=12 and edad<18:\n",
        "  print(\"Eres un adolecente con:\",edad,\"Años\")\n",
        "else:\n",
        "  print(\"Error en la edad, el rango correcto es entre 0 y 125 años\")"
      ],
      "metadata": {
        "colab": {
          "base_uri": "https://localhost:8080/"
        },
        "id": "hI7xNzZLKwCV",
        "outputId": "59117e32-b474-4bec-9fb6-b425bc3930d4"
      },
      "execution_count": null,
      "outputs": [
        {
          "output_type": "stream",
          "name": "stdout",
          "text": [
            "¿Que edad tienes..? 14\n",
            "Eres adolecente de: 14 Años\n"
          ]
        }
      ]
    },
    {
      "cell_type": "markdown",
      "source": [
        "Realiza u  algoritmo que dado un numero diga si es positivo o negativo"
      ],
      "metadata": {
        "id": "OZAK1zZQNglV"
      }
    },
    {
      "cell_type": "code",
      "source": [
        "nun=int(input(\"Ingresa el numero: \"))\n",
        "if (nun>0):\n",
        "  print(\"Es positivo\")\n",
        "elif (nun<0):\n",
        "    print(\"Es negativo\")\n",
        "else:\n",
        "  print(\"Cero\")\n"
      ],
      "metadata": {
        "colab": {
          "base_uri": "https://localhost:8080/"
        },
        "id": "k8VUDHs-OXvd",
        "outputId": "7d6079fb-a708-4511-fe42-726c2ef4898e"
      },
      "execution_count": null,
      "outputs": [
        {
          "output_type": "stream",
          "name": "stdout",
          "text": [
            "Ingresa el numero: 0\n",
            "Cero\n"
          ]
        }
      ]
    },
    {
      "cell_type": "markdown",
      "source": [
        "Una tienda ofrece un 10% de descuento a los clientes cuyas compras superen el 100000, reqalizar un algoritmo que muestre el total a pagar cuando se supere este monto."
      ],
      "metadata": {
        "id": "vJfsKq7nP4BK"
      }
    },
    {
      "cell_type": "code",
      "source": [
        "vc=int(input(\"Ingrese el valor de la compra: \"))\n",
        "if(vc>=1000000):\n",
        "   d=vc*0.1\n",
        "   vt=vc-d\n",
        "   print(\"El descuento es de: $\",d)\n",
        "   print(\"Debes pagar $\",vt)\n",
        "elif (vc>0) and (vc<=1000000):\n",
        "   print(\"No Tienes descuento !!! debes pagar $\",vc)\n",
        "else:\n",
        "   print(\"ERROR valor de la compra debe ser mayor que cero\")\n"
      ],
      "metadata": {
        "colab": {
          "base_uri": "https://localhost:8080/"
        },
        "id": "qxWVRryxQLNZ",
        "outputId": "1b58879d-b28c-49b3-eacf-356f18718670"
      },
      "execution_count": 36,
      "outputs": [
        {
          "output_type": "stream",
          "name": "stdout",
          "text": [
            "Ingrese el valor de la compra: 20000\n",
            "No Tienes descuento !!! debes pagar $ 20000\n"
          ]
        }
      ]
    },
    {
      "cell_type": "markdown",
      "source": [
        "Un estudiante le toman 3 notas para poder calcular su definitiva que es el promedio de estas, realizar un algoritmo que dada las 3 notas diga si el estudiante aprobo o nola asinatura"
      ],
      "metadata": {
        "id": "o6bzQdAsSwko"
      }
    },
    {
      "cell_type": "code",
      "source": [
        "nota1=float(input(\"Ingrese la primera nota \"))\n",
        "nota2=float(input(\"Ingrese la primera nota \"))\n",
        "nota3=float(input(\"Ingrese la primera nota \"))\n",
        "if 0<=nota1<=5 and 0<=nota2<=5 and 0<=nota3<=5:\n",
        "   d=(nota1+nota2+nota3)/3\n",
        "   if(d>=3):\n",
        "      print(\"Aprobaste!!!!, con\",d)\n",
        "   else:\n",
        "      print(\"Desaprobaste con:\",d)\n",
        "else:\n",
        "  print(\"Notas invalidad valores entre 0 y 5\")\n"
      ],
      "metadata": {
        "colab": {
          "base_uri": "https://localhost:8080/"
        },
        "id": "G7uEIvRITZr6",
        "outputId": "8ff62c51-490c-447b-cf5a-6cff7ed3db1a"
      },
      "execution_count": 42,
      "outputs": [
        {
          "output_type": "stream",
          "name": "stdout",
          "text": [
            "Ingrese la primera nota 5\n",
            "Ingrese la primera nota 1\n",
            "Ingrese la primera nota 1\n",
            "Desaprobaste con: 2.3333333333333335\n"
          ]
        }
      ]
    },
    {
      "cell_type": "markdown",
      "source": [
        "Realizar un algoritmo que defina si un numero es par o impar"
      ],
      "metadata": {
        "id": "SgEYWb_bThEJ"
      }
    },
    {
      "cell_type": "code",
      "source": [
        "num=int(input(\"Ingrese el numero \"))\n",
        "if (num%2==0):\n",
        "  print(\"El numero es par\")\n",
        "else:\n",
        "  print(\"El nu ero es impar\")"
      ],
      "metadata": {
        "colab": {
          "base_uri": "https://localhost:8080/"
        },
        "id": "0sTDzoaxWGhv",
        "outputId": "8855cf60-bbdc-443f-cbd0-57f11b358ee8"
      },
      "execution_count": 45,
      "outputs": [
        {
          "output_type": "stream",
          "name": "stdout",
          "text": [
            "Ingrese el numero 600000\n",
            "El numero es par\n"
          ]
        }
      ]
    },
    {
      "cell_type": "markdown",
      "source": [
        "Calcular el total que una persona debe pagar en un llantera, si el precio de una llanta es de 200.000 cop si compra menos de 5 llantas y de 150.000 si compra 5 o mas"
      ],
      "metadata": {
        "id": "Q6mb6iaLXvic"
      }
    },
    {
      "cell_type": "code",
      "source": [
        "cll=int(input(\"Ingrese la cantidad de llantas \"))\n",
        "if (cll>=5):\n",
        "  vt=cll*150000\n",
        "  print(\"El total a pagar es $\",vt,\"Ahorraste $\",50000*cll)\n",
        "elif (cll>0) and (cll<5):\n",
        "  vt=cll*200000\n",
        "  print(\"El total a pagar es $\",vt)\n",
        "else:\n",
        "  print(\"Error en la cantidad de llantas digitadas, valores deben ser mayor que cero\")"
      ],
      "metadata": {
        "colab": {
          "base_uri": "https://localhost:8080/"
        },
        "id": "kYIb-b0bYKn9",
        "outputId": "459cba99-2f67-4af0-ef51-1fa3a38a432a"
      },
      "execution_count": 51,
      "outputs": [
        {
          "output_type": "stream",
          "name": "stdout",
          "text": [
            "Ingrese la cantidad de llantas 20\n",
            "El total a pagar es $ 3000000 Ahorraste $ 1000000\n"
          ]
        }
      ]
    },
    {
      "cell_type": "markdown",
      "source": [
        "un supermercado ofrece 5% de descuento si el usuario saca un numero entre 1 y 50 y un 105 de descuento de descuento si el usuario saca un numero mayor que 50 y 75 y un 15% si el numero es mayor que 75 hasta 100"
      ],
      "metadata": {
        "id": "LbEgvCAFa-tp"
      }
    },
    {
      "cell_type": "code",
      "source": [
        "import random\n",
        "aleatorio=random.randint(1,100)\n",
        "vc=int(input(\"Ingrese el valor de la compra \"))\n",
        "print(\"Tu numero aleatorio es: \", aleatorio)\n",
        "if(aleatorio>=1) and (aleatorio<=50):\n",
        "  d=vc*0.05\n",
        "  vt=vc-d\n",
        "  print(\"Tu descuento es del 5% \", d,\"Debes pagar :$\",vt)\n",
        "elif(aleatorio>50) and (aleatorio<=75):\n",
        "  d=vc*0.1\n",
        "  vt=vc-d\n",
        "  print(\"Tu descuento es del 10% \", d,\"Debes pagar :$\",vt)\n",
        "else:\n",
        "  d=vc*0.15\n",
        "  vt=vc-d\n",
        "  print(\"Tu descuento es del 15% \", d,\"Debes pagar :$\",vt)\n",
        "\n"
      ],
      "metadata": {
        "colab": {
          "base_uri": "https://localhost:8080/"
        },
        "id": "DIG2oUnXkTgX",
        "outputId": "8f3836eb-dff8-423c-e034-ecd32e66695e"
      },
      "execution_count": 57,
      "outputs": [
        {
          "output_type": "stream",
          "name": "stdout",
          "text": [
            "Ingrese el valor de la compra 400000\n",
            "Tu numero aleatorio es:  97\n",
            "Tu descuento es del 15%  60000.0 Debes pagar :$ 340000.0\n"
          ]
        }
      ]
    },
    {
      "cell_type": "markdown",
      "source": [
        "Realiza un algoritmo que calcule el numero de pulsaciones de una persona por cada 10 segundos lo cual depende de su eda y de su sexo, si es femenino nu_pul=(220-edad)/10 si es masculino es num_pul(210-edad/10)"
      ],
      "metadata": {
        "id": "9fSC6RxDnaOj"
      }
    },
    {
      "cell_type": "code",
      "source": [
        "edad=int(input(\"Digite su edad \"))\n",
        "if 1<=edad<=125:\n",
        "  genero=int(input(\"Ingrese su genero: 1 Maculino, 2 Femenino\"))\n",
        "  if genero==1:\n",
        "    num_pul=(210-edad)/10\n",
        "    print(\"El numero de pulsaciones es: \", num_pul)\n",
        "  elif genero==2:\n",
        "     num_pul=(220-edad)/10\n",
        "     print(\"El numero de pulsaciones es: \", num_pul)\n",
        "  else:\n",
        "   print(\"ERROR en la opcion de genero revise las opciones\")\n",
        "else:\n",
        "  print(\"Edad erronea ingrese valos validos entre 1 y 125\")\n",
        "\n"
      ],
      "metadata": {
        "colab": {
          "base_uri": "https://localhost:8080/"
        },
        "id": "kRxJw0B9a-XQ",
        "outputId": "5088b5d6-1346-43b7-8c05-39e667d6fd50"
      },
      "execution_count": 61,
      "outputs": [
        {
          "output_type": "stream",
          "name": "stdout",
          "text": [
            "Digite su edad 15\n",
            "Ingrese su genero: 1 Maculino, 2 Femenino6\n",
            "ERROR en la opcion de genero revise las opciones\n"
          ]
        }
      ]
    },
    {
      "cell_type": "markdown",
      "source": [
        "un banco necesita definir cuanto pagara una persona por la cuota del credito de su casa, teniendo en cuanta las siguientes convenciones. si la persona gana 2000000 o menos debe pagar 200000. si gana mas de 2000000 debe pagar el 10% de su salario"
      ],
      "metadata": {
        "id": "0K7hQm5hsZ5p"
      }
    },
    {
      "cell_type": "code",
      "source": [
        "sueldo=int(input(\"Digite su sueldo \"))\n",
        "if(sueldo>=1300000) and (sueldo<=2000000):\n",
        "  print(\"Tu cuota mensual es de: $200.000\")\n",
        "elif(sueldo>2000000):\n",
        "  cuota=sueldo*0.1\n",
        "  print(\"Tu cuota mensual es de: $\", cuota)\n",
        "elif(sueldo>0):\n",
        "  print(\"No tienes capacidad de credito para credito \")\n",
        "else:\n",
        " print(\"El valor es erroneo\")\n",
        "\n",
        ""
      ],
      "metadata": {
        "colab": {
          "base_uri": "https://localhost:8080/"
        },
        "id": "eqyQWRw6uKgu",
        "outputId": "14ca61af-4c09-40c2-dfd8-1a8d6542b21e"
      },
      "execution_count": 64,
      "outputs": [
        {
          "output_type": "stream",
          "name": "stdout",
          "text": [
            "Digite su sueldo2500000\n",
            "Tu cuota mensual es de: $ 250000.0\n"
          ]
        }
      ]
    },
    {
      "cell_type": "markdown",
      "source": [
        "Realizar un algoritmo que pueda calcular caudo debe pagar un estudiante por su semestre academico: si su promedio es superios a 4.5 se le otroga un descuento del 30%, si su promedio es superior a 4 y menor"
      ],
      "metadata": {
        "id": "MXcGggu8vw1f"
      }
    },
    {
      "cell_type": "code",
      "source": [
        "valorsemestre=int(input(\"ingrese el valor del semestre: \"))\n",
        "promedio=float(input(\"ingrese su promedio: \"))\n",
        "if(promedio>4.5) and (promedio<=5.0):\n",
        "  descuento=(valorsemestre*0.3)\n",
        "  total=valorsemestre-descuento\n",
        "  print(\"El valor a pagar es de: $\",total,\"tubiste un descuento de: $\",descuento)\n",
        "elif(promedio>4.0) and (promedio<=4.5):\n",
        "  descuento=(valorsemestre*0.15)\n",
        "  total=valorsemestre-descuento\n",
        "  print(\"El valor a pagar es de: $\",total,\"tubiste un descuento de: $\",descuento)\n",
        "elif(promedio>3.5) and (promedio<=4.0):\n",
        "  descuento=(valorsemestre*0.05)\n",
        "  total=valorsemestre-descuento\n",
        "  print(\"El valor a pagar es de: $\",total,\"tubiste un descuento de: $\",descuento)\n",
        "else:\n",
        "  print(\"el valor del promedio no es valido\")\n",
        ""
      ],
      "metadata": {
        "colab": {
          "base_uri": "https://localhost:8080/"
        },
        "id": "7ayXS0A-wd3Y",
        "outputId": "392d253a-81ab-41aa-8fbb-b0b1db4578d1"
      },
      "execution_count": 68,
      "outputs": [
        {
          "output_type": "stream",
          "name": "stdout",
          "text": [
            "ingrese el valor del semestre: 0\n",
            "ingrese su promedio: 4.5\n",
            "El valor a pagar es de: $ 0.0 tubiste un descuento de: $ 0.0\n"
          ]
        }
      ]
    },
    {
      "cell_type": "markdown",
      "source": [
        "una persona puede tener acceso a la jubilacion: por edad, por antigued joven y antuguedad adulta. si la persona tiuene 60 años o mas y la antiguedad en la empresa es menor a 25 años esta persona tiene derecho a una jubilacion por edad. si la persona tiene 60 años o mas y su antiguedad es mayor que 25 añor, la persona tiene jubilacion por persona adulta, si la persona tiene menos de 60 años y la antiguedad es mayo que 25 años , la persona tiene derecho a jubilacion joven de lo contrario no tiene por que jubilarse."
      ],
      "metadata": {
        "id": "x8ld_EJT0DCI"
      }
    },
    {
      "cell_type": "code",
      "source": [
        "edad=int(input(\"ingrese la edad que tienes: \"))\n",
        "if 1<=edad<=125:\n",
        "  at=int(input(\"Ingrese los años laborados en la empresa: \"))\n",
        "  if (edad>=60 and at<=25):\n",
        "    print(\" tiene derecho a una jubilacion por edad\")\n",
        "  elif(edad>=60 and at>=25):\n",
        "    print(\" la persona tiene jubilacion por persona adulta\")\n",
        "  elif(edad<=60 and at>=25):\n",
        "     print(\"  la persona tiene derecho a jubilacion joven \")\n",
        "  else:\n",
        "   print(\"la persona no tiene derecho a jubilacion \")\n",
        "else:\n",
        "  print(\"Edad erronea ingrese valos validos entre 1 y 125 \")\n",
        ""
      ],
      "metadata": {
        "colab": {
          "base_uri": "https://localhost:8080/"
        },
        "id": "HtCWEsHC06xp",
        "outputId": "1d9a738d-b98e-4c1a-cc61-be3907a778c7"
      },
      "execution_count": 80,
      "outputs": [
        {
          "output_type": "stream",
          "name": "stdout",
          "text": [
            "ingrese la edad que tienes: 6\n",
            "Ingrese los años laborados en la empresa: 50\n",
            "  la persona tiene derecho a jubilacion joven \n"
          ]
        }
      ]
    }
  ]
}